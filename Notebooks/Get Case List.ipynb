{
 "cells": [
  {
   "cell_type": "markdown",
   "id": "96bc46ee-6c76-45af-b95c-a1740ca09e90",
   "metadata": {},
   "source": [
    "Get list of cases in a specified time period by scraping the data table instead of the CSV file"
   ]
  },
  {
   "cell_type": "code",
   "execution_count": 1,
   "id": "457fc96d-a1f2-4dfe-90b3-8eb8b2c652bd",
   "metadata": {},
   "outputs": [],
   "source": [
    "from selenium import webdriver\n",
    "\n",
    "from selenium.webdriver.common.keys import Keys\n",
    "from selenium.webdriver.common.by import By\n",
    "from selenium.common.exceptions import NoSuchElementException\n",
    "\n",
    "from selenium.webdriver.support.select import Select\n",
    "from selenium.webdriver.support.ui import WebDriverWait\n",
    "from selenium.webdriver.support import expected_conditions as EC\n",
    "from selenium.webdriver import ActionChains\n",
    "from selenium.webdriver.firefox.options import Options\n",
    "\n",
    "from selenium.webdriver.firefox.service import Service as FirefoxService\n",
    "from webdriver_manager.firefox import GeckoDriverManager\n",
    "import time"
   ]
  },
  {
   "cell_type": "code",
   "execution_count": 2,
   "id": "cdcdb820-2fe3-4355-95d4-81d0b6e913dc",
   "metadata": {},
   "outputs": [],
   "source": [
    "driver = webdriver.Firefox(service=FirefoxService(GeckoDriverManager().install()))\n",
    "driver.implicitly_wait(3) # seconds\n",
    "wait = WebDriverWait(driver, 10)"
   ]
  },
  {
   "cell_type": "code",
   "execution_count": 6,
   "id": "21558c8a-a3fe-462d-9c23-2f6d0630dff6",
   "metadata": {},
   "outputs": [],
   "source": [
    "driver.get(\"https://permitsandcases.indy.gov/\")\n",
    "assert \"Accela Citizen Access\" in driver.title\n",
    "elem = driver.find_element(By.ID, \"more_tab_place_holder\")\n",
    "actions = ActionChains(driver)\n",
    "actions.move_to_element(elem).perform()\n",
    "time.sleep(3)\n",
    "elem = driver.find_element(By.XPATH, \"//*[@title='Planning / Historic Preservation']\")\n",
    "elem.click()\n",
    "assert driver.find_element(By.XPATH, '//*[@id=\"ctl00_PlaceHolderMain_lblPermitListTitle\"]').text == 'Search for Planning / IHPC Cases'\n",
    "elem = driver.find_element(By.ID, \"ctl00_PlaceHolderMain_generalSearchForm_txtGSStartDate\")\n",
    "for _ in range(11):\n",
    "    elem.send_keys(Keys.ARROW_LEFT)\n",
    "elem.send_keys('09/29/2024')\n",
    "\n",
    "elem = driver.find_element(By.ID, \"ctl00_PlaceHolderMain_generalSearchForm_txtGSEndDate\")\n",
    "for _ in range(11):\n",
    "    elem.send_keys(Keys.ARROW_LEFT)\n",
    "elem.send_keys('10/02/2024')\n",
    "elem = driver.find_element(By.ID, \"ctl00_PlaceHolderMain_btnNewSearch\").click()\n",
    "elem = wait.until(EC.visibility_of_element_located((By.ID, \"ctl00_PlaceHolderMain_dgvPermitList_gdvPermitList\")))"
   ]
  },
  {
   "cell_type": "code",
   "execution_count": 7,
   "id": "6d9c80ea-5b5a-4f89-a1ad-382ca81ed8ee",
   "metadata": {},
   "outputs": [
    {
     "ename": "XMLSyntaxError",
     "evalue": "no text parsed from document (<string>, line 0)",
     "output_type": "error",
     "traceback": [
      "Traceback \u001b[0;36m(most recent call last)\u001b[0m:\n",
      "\u001b[0m  File \u001b[1;32m~/.local/share/virtualenvs/zpe-87G9kcFM/lib/python3.12/site-packages/IPython/core/interactiveshell.py:3577\u001b[0m in \u001b[1;35mrun_code\u001b[0m\n    exec(code_obj, self.user_global_ns, self.user_ns)\u001b[0m\n",
      "\u001b[0m  Cell \u001b[1;32mIn[7], line 5\u001b[0m\n    case_listings_frame = pd.read_html(StringIO(elem), skiprows=3)\u001b[0m\n",
      "\u001b[0m  File \u001b[1;32m~/.local/share/virtualenvs/zpe-87G9kcFM/lib/python3.12/site-packages/pandas/io/html.py:1240\u001b[0m in \u001b[1;35mread_html\u001b[0m\n    return _parse(\u001b[0m\n",
      "\u001b[0m  File \u001b[1;32m~/.local/share/virtualenvs/zpe-87G9kcFM/lib/python3.12/site-packages/pandas/io/html.py:983\u001b[0m in \u001b[1;35m_parse\u001b[0m\n    tables = p.parse_tables()\u001b[0m\n",
      "\u001b[0m  File \u001b[1;32m~/.local/share/virtualenvs/zpe-87G9kcFM/lib/python3.12/site-packages/pandas/io/html.py:249\u001b[0m in \u001b[1;35mparse_tables\u001b[0m\n    tables = self._parse_tables(self._build_doc(), self.match, self.attrs)\u001b[0m\n",
      "\u001b[0;36m  File \u001b[0;32m~/.local/share/virtualenvs/zpe-87G9kcFM/lib/python3.12/site-packages/pandas/io/html.py:809\u001b[0;36m in \u001b[0;35m_build_doc\u001b[0;36m\n\u001b[0;31m    raise XMLSyntaxError(\"no text parsed from document\", 0, 0, 0)\u001b[0;36m\n",
      "\u001b[0;36m  File \u001b[0;32m<string>\u001b[0;36m\u001b[0m\n\u001b[0;31mXMLSyntaxError\u001b[0m\u001b[0;31m:\u001b[0m no text parsed from document\n"
     ]
    }
   ],
   "source": [
    "import pandas as pd\n",
    "from io import StringIO\n",
    "elem = driver.find_element(By.ID, 'ctl00_PlaceHolderMain_dgvPermitList_gdvPermitList').get_dom_attribute('outerHTML')\n",
    "#print(elem)\n",
    "case_listings_frame = pd.read_html(StringIO(elem), skiprows=3)\n",
    "case_listings_frame[0].to_csv('out.csv', index=False)\n",
    "#print(case_listings_frame)"
   ]
  },
  {
   "cell_type": "code",
   "execution_count": null,
   "id": "611ee2fa-bc2e-4252-ad5c-ce14ff71a44b",
   "metadata": {},
   "outputs": [],
   "source": []
  }
 ],
 "metadata": {
  "kernelspec": {
   "display_name": "Python 3 (ipykernel)",
   "language": "python",
   "name": "python3"
  },
  "language_info": {
   "codemirror_mode": {
    "name": "ipython",
    "version": 3
   },
   "file_extension": ".py",
   "mimetype": "text/x-python",
   "name": "python",
   "nbconvert_exporter": "python",
   "pygments_lexer": "ipython3",
   "version": "3.12.7"
  }
 },
 "nbformat": 4,
 "nbformat_minor": 5
}
