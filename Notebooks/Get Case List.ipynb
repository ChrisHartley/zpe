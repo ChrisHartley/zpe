{
 "cells": [
  {
   "cell_type": "markdown",
   "id": "96bc46ee-6c76-45af-b95c-a1740ca09e90",
   "metadata": {},
   "source": [
    "Get list of cases in a specified time period by scraping the data table instead of the CSV file"
   ]
  },
  {
   "cell_type": "code",
   "execution_count": 5,
   "id": "457fc96d-a1f2-4dfe-90b3-8eb8b2c652bd",
   "metadata": {},
   "outputs": [],
   "source": [
    "from selenium import webdriver\n",
    "\n",
    "from selenium.webdriver.common.keys import Keys\n",
    "from selenium.webdriver.common.by import By\n",
    "from selenium.common.exceptions import NoSuchElementException\n",
    "\n",
    "from selenium.webdriver.support.select import Select\n",
    "from selenium.webdriver.support.ui import WebDriverWait\n",
    "from selenium.webdriver.support import expected_conditions as EC\n",
    "from selenium.webdriver.firefox.options import Options\n",
    "\n",
    "from selenium.webdriver.firefox.service import Service as FirefoxService\n",
    "from webdriver_manager.firefox import GeckoDriverManager\n",
    "import time"
   ]
  },
  {
   "cell_type": "code",
   "execution_count": 6,
   "id": "cdcdb820-2fe3-4355-95d4-81d0b6e913dc",
   "metadata": {},
   "outputs": [],
   "source": [
    "driver = webdriver.Firefox(service=FirefoxService(GeckoDriverManager().install()))\n",
    "driver.implicitly_wait(3) # seconds\n",
    "wait = WebDriverWait(driver, 10)"
   ]
  },
  {
   "cell_type": "code",
   "execution_count": 7,
   "id": "21558c8a-a3fe-462d-9c23-2f6d0630dff6",
   "metadata": {},
   "outputs": [],
   "source": [
    "driver.get(\"https://permitsandcases.indy.gov/\")\n",
    "assert \"Accela Citizen Access\" in driver.title\n",
    "elem = driver.find_element(By.XPATH, \"//*[@title='Planning / Historic Preservation']\")\n",
    "elem.click()\n",
    "assert driver.find_element(By.XPATH, '//*[@id=\"ctl00_PlaceHolderMain_lblPermitListTitle\"]').text == 'Search for Planning / IHPC Cases'\n",
    "elem = driver.find_element(By.ID, \"ctl00_PlaceHolderMain_generalSearchForm_txtGSStartDate\")\n",
    "for _ in range(11):\n",
    "    elem.send_keys(Keys.ARROW_LEFT)\n",
    "elem.send_keys('09/29/2024')\n",
    "\n",
    "elem = driver.find_element(By.ID, \"ctl00_PlaceHolderMain_generalSearchForm_txtGSEndDate\")\n",
    "for _ in range(11):\n",
    "    elem.send_keys(Keys.ARROW_LEFT)\n",
    "elem.send_keys('10/02/2024')\n",
    "elem = driver.find_element(By.ID, \"ctl00_PlaceHolderMain_btnNewSearch\").click()\n",
    "elem = wait.until(EC.visibility_of_element_located((By.ID, \"ctl00_PlaceHolderMain_dgvPermitList_gdvPermitList\")))"
   ]
  },
  {
   "cell_type": "code",
   "execution_count": 24,
   "id": "6d9c80ea-5b5a-4f89-a1ad-382ca81ed8ee",
   "metadata": {},
   "outputs": [],
   "source": [
    "import pandas as pd\n",
    "from io import StringIO\n",
    "elem = driver.find_element(By.ID, 'ctl00_PlaceHolderMain_dgvPermitList_gdvPermitList').get_attribute('outerHTML')\n",
    "#print(elem)\n",
    "case_listings_frame = pd.read_html(StringIO(elem), skiprows=3)\n",
    "case_listings_frame[0].to_csv('out.csv', index=False)\n",
    "#print(case_listings_frame)"
   ]
  },
  {
   "cell_type": "code",
   "execution_count": null,
   "id": "eed59ada-43a1-43b4-a04a-1d820f497e15",
   "metadata": {},
   "outputs": [],
   "source": []
  }
 ],
 "metadata": {
  "kernelspec": {
   "display_name": "Python 3 (ipykernel)",
   "language": "python",
   "name": "python3"
  },
  "language_info": {
   "codemirror_mode": {
    "name": "ipython",
    "version": 3
   },
   "file_extension": ".py",
   "mimetype": "text/x-python",
   "name": "python",
   "nbconvert_exporter": "python",
   "pygments_lexer": "ipython3",
   "version": "3.12.3"
  }
 },
 "nbformat": 4,
 "nbformat_minor": 5
}
