{
 "cells": [
  {
   "cell_type": "markdown",
   "id": "6208e5f1-5701-497d-9751-93dbc13eac06",
   "metadata": {},
   "source": [
    "Geocode parcel number using Indianapolis arcgis server"
   ]
  },
  {
   "cell_type": "code",
   "execution_count": 1,
   "id": "9657a14b-3bd3-410c-96eb-0506349ff8bf",
   "metadata": {},
   "outputs": [],
   "source": [
    "import requests"
   ]
  },
  {
   "cell_type": "code",
   "execution_count": 8,
   "id": "1a048a17-26c9-4aef-b415-732e06a5a6f3",
   "metadata": {},
   "outputs": [
    {
     "name": "stdout",
     "output_type": "stream",
     "text": [
      "{'spatialReference': {'wkid': 4326, 'latestWkid': 4326}, 'candidates': [{'address': '1040764', 'location': {'x': -86.12912292829425, 'y': 39.78343168570747}, 'score': 100, 'attributes': {}}]}\n",
      "{'PNT_WKT': 'SRID=4326;POINT(-86.12912292829425 39.78343168570747)', 'Geocoding Accuracy': 100}\n"
     ]
    }
   ],
   "source": [
    "parcel_number='1040764'\n",
    "BASE_URL = \"http://xmaps.indy.gov/arcgis/rest/services/Locators/IndyParcelID/GeocodeServer/findAddressCandidates?\"\n",
    "GEOCODE_URL = \"{}SingleKey={}&maxLocations=1&outSR=4326&f=pjson\".format(BASE_URL, parcel_number,)\n",
    "response = requests.get(GEOCODE_URL, timeout=30)\n",
    "results_dict = {}\n",
    "if response.status_code == 200:\n",
    "    try:\n",
    "        response_json = response.json()\n",
    "        print(response_json)\n",
    "        wkid = response_json['spatialReference']['wkid']\n",
    "        lon = response_json['candidates'][0][\"location\"][\"x\"]\n",
    "        lat = response_json['candidates'][0][\"location\"][\"y\"]\n",
    "        results_dict['PNT_WKT'] = 'SRID={wkid};POINT({lon} {lat})'.format(wkid=wkid, lon=lon, lat=lat)\n",
    "        results_dict['Geocoding Accuracy']  = response_json['candidates'][0]['score']\n",
    "    except Exception as e :\n",
    "        print(e)\n",
    "        print('Unable to geocode {}'.format(parcel_number,))\n",
    "        results_dict['PNT_WKT'] = ''\n",
    "\n",
    "else:\n",
    "    results_dict['PNT_WKT'] = ''\n",
    "print(results_dict)"
   ]
  },
  {
   "cell_type": "code",
   "execution_count": null,
   "id": "d72910bf-2e99-4dad-a49e-950dac5a6da9",
   "metadata": {},
   "outputs": [],
   "source": []
  },
  {
   "cell_type": "code",
   "execution_count": null,
   "id": "92313190-d23f-4a4d-a57c-62b1d16f76c1",
   "metadata": {},
   "outputs": [],
   "source": []
  }
 ],
 "metadata": {
  "kernelspec": {
   "display_name": "Python 3 (ipykernel)",
   "language": "python",
   "name": "python3"
  },
  "language_info": {
   "codemirror_mode": {
    "name": "ipython",
    "version": 3
   },
   "file_extension": ".py",
   "mimetype": "text/x-python",
   "name": "python",
   "nbconvert_exporter": "python",
   "pygments_lexer": "ipython3",
   "version": "3.12.3"
  }
 },
 "nbformat": 4,
 "nbformat_minor": 5
}
