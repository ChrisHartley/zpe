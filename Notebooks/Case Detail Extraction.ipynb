{
 "cells": [
  {
   "cell_type": "markdown",
   "id": "7a0ddf4f-4a76-4d43-b4b9-b2826e914437",
   "metadata": {},
   "source": [
    "So, first we need to do all of our imports"
   ]
  },
  {
   "cell_type": "code",
   "execution_count": 20,
   "id": "41e6a4fc-46e1-44bb-b8b2-bb880bf31304",
   "metadata": {},
   "outputs": [],
   "source": [
    "from selenium import webdriver\n",
    "\n",
    "from selenium.webdriver.common.keys import Keys\n",
    "from selenium.webdriver.common.by import By\n",
    "from selenium.common.exceptions import NoSuchElementException\n",
    "\n",
    "from selenium.webdriver.support.select import Select\n",
    "from selenium.webdriver.support.ui import WebDriverWait\n",
    "from selenium.webdriver.support import expected_conditions as EC\n",
    "from selenium.webdriver.firefox.options import Options\n",
    "from selenium.webdriver import ActionChains\n",
    "\n",
    "\n",
    "from selenium.webdriver.firefox.service import Service as FirefoxService\n",
    "from webdriver_manager.firefox import GeckoDriverManager\n",
    "import time"
   ]
  },
  {
   "cell_type": "markdown",
   "id": "dee8c98d-2f93-4df0-ab8b-1bf4c70a79e7",
   "metadata": {},
   "source": [
    "Then we can set up the browser instance with the driver"
   ]
  },
  {
   "cell_type": "code",
   "execution_count": 21,
   "id": "0e3e3df6-d5f2-44df-a0c5-0e81a65a4a8f",
   "metadata": {},
   "outputs": [],
   "source": [
    "driver = webdriver.Firefox(service=FirefoxService(GeckoDriverManager().install()))\n",
    "driver.implicitly_wait(3) # seconds\n",
    "wait = WebDriverWait(driver, 10)"
   ]
  },
  {
   "cell_type": "markdown",
   "id": "441bf92c-aecc-4cd4-b13d-7f43e58f6866",
   "metadata": {},
   "source": [
    "Open up the page and search for an example case"
   ]
  },
  {
   "cell_type": "code",
   "execution_count": 40,
   "id": "ee306461-7c1c-45e6-be8a-554a90b52e83",
   "metadata": {},
   "outputs": [
    {
     "name": "stdout",
     "output_type": "stream",
     "text": [
      "Ok\n"
     ]
    }
   ],
   "source": [
    "driver.get(\"https://permitsandcases.indy.gov/\")\n",
    "assert \"Accela Citizen Access\" in driver.title\n",
    "elem = driver.find_element(By.ID, \"more_tab_place_holder\")\n",
    "actions = ActionChains(driver)\n",
    "actions.move_to_element(elem).perform()\n",
    "time.sleep(3)\n",
    "elem = driver.find_element(By.XPATH, \"//*[@title='Planning / Historic Preservation']\")\n",
    "elem.click()\n",
    "assert driver.find_element(By.XPATH, '//*[@id=\"ctl00_PlaceHolderMain_lblPermitListTitle\"]').text == 'Search for Planning / IHPC Cases'\n",
    "elem = driver.find_element(By.ID, \"ctl00_PlaceHolderMain_generalSearchForm_txtGSPermitNumber\")\n",
    "elem.send_keys('2024COA336')\n",
    "elem = driver.find_element(By.ID, \"ctl00_PlaceHolderMain_btnNewSearch\").click()\n",
    "#header_box = driver.find_element(By.ID, \"ctl00_PlaceHolderMain_dvContent\")\n",
    "elem = wait.until(EC.visibility_of_element_located((By.ID, \"ctl00_PlaceHolderMain_lnkPrintSummary\")))\n",
    "print('Ok')"
   ]
  },
  {
   "cell_type": "markdown",
   "id": "cf2af0d9-85e4-42bd-8a34-7aecdb12f7d4",
   "metadata": {},
   "source": [
    "And now we can test extracting various elements from the page."
   ]
  },
  {
   "cell_type": "code",
   "execution_count": 54,
   "id": "21daf2f5-b1bb-484e-8e26-98ce3a2cfa1d",
   "metadata": {},
   "outputs": [],
   "source": [
    "case_details = {}"
   ]
  },
  {
   "cell_type": "code",
   "execution_count": 55,
   "id": "fd253328-a31e-4df9-b077-8451526db287",
   "metadata": {},
   "outputs": [],
   "source": [
    "case_details['Location'] = driver.find_element(By.XPATH, '//*[@id=\"divWorkLocationInfo\"]').text.strip()"
   ]
  },
  {
   "cell_type": "code",
   "execution_count": 56,
   "id": "3128d69e-8542-4e24-b884-ad7775de76d8",
   "metadata": {},
   "outputs": [],
   "source": [
    "case_details['Parcel'] = driver.find_element(By.XPATH,'//*[@id=\"ctl00_PlaceHolderMain_PermitDetailList1_palParceList\"]/div/h2/table/tbody/tr/td/div').get_attribute('innerHTML').strip()[-7:]"
   ]
  },
  {
   "cell_type": "code",
   "execution_count": 65,
   "id": "5d0f21c0-587b-40a2-8e87-dac2a71236c0",
   "metadata": {},
   "outputs": [],
   "source": [
    "case_details['Description'] = driver.find_element(By.XPATH, \"//table[@id='ctl00_PlaceHolderMain_PermitDetailList1_TBPermitDetailTest']//div[contains(.,'Description:')]\").text[13:]"
   ]
  },
  {
   "cell_type": "code",
   "execution_count": 66,
   "id": "aa3f08e0-5063-4b1d-92d9-75bb98ef309b",
   "metadata": {},
   "outputs": [],
   "source": [
    "case_details['CaseType'] = driver.find_element(By.XPATH, '//span[@id=\"ctl00_PlaceHolderMain_lblPermitType\"]').text"
   ]
  },
  {
   "cell_type": "code",
   "execution_count": 67,
   "id": "40f29ff5-8812-495e-98cf-abe5b9e0561e",
   "metadata": {},
   "outputs": [],
   "source": [
    "case_details['Owner'] = driver.find_element(By.XPATH, \"//table[@id='ctl00_PlaceHolderMain_PermitDetailList1_TBPermitDetailTest']//div[contains(.,'Owner:')]\").text[7:]"
   ]
  },
  {
   "cell_type": "code",
   "execution_count": 68,
   "id": "d17ea90b-48f1-4b0b-a66e-f379aaac5745",
   "metadata": {},
   "outputs": [],
   "source": [
    "case_details['Case URL'] = driver.current_url"
   ]
  },
  {
   "cell_type": "code",
   "execution_count": 69,
   "id": "18f73187-6517-434f-9696-b5bd511b5f50",
   "metadata": {},
   "outputs": [
    {
     "name": "stdout",
     "output_type": "stream",
     "text": [
      "{'Location': '614 N HIGHLAND AVE\\nINDIANAPOLIS IN 46202 *', 'Parcel': '1026272', 'Description': 'Cottage Home\\nreplace non-historic doors with salvage wood doors', 'CaseType': 'Planning - IHPC - Certificate of Appropriateness', 'Owner': 'RADWAY, JEREMY CHRISTOPHER *\\n512 N TEMPLE AVE\\nINDIANAPOLIS IN 46202', 'Case URL': 'https://aca-prod.accela.com/INDY/Cap/CapDetail.aspx?Module=Planning&TabName=Planning&capID1=24HPC&capID2=00000&capID3=00364&agencyCode=INDY&IsToShowInspection='}\n"
     ]
    }
   ],
   "source": [
    "print(case_details)"
   ]
  }
 ],
 "metadata": {
  "kernelspec": {
   "display_name": "Python 3 (ipykernel)",
   "language": "python",
   "name": "python3"
  },
  "language_info": {
   "codemirror_mode": {
    "name": "ipython",
    "version": 3
   },
   "file_extension": ".py",
   "mimetype": "text/x-python",
   "name": "python",
   "nbconvert_exporter": "python",
   "pygments_lexer": "ipython3",
   "version": "3.12.7"
  }
 },
 "nbformat": 4,
 "nbformat_minor": 5
}
